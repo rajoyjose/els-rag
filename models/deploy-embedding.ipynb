{
 "cells": [
  {
   "cell_type": "markdown",
   "metadata": {},
   "source": [
    "### 1.  Set Variables.  \n",
    "1. Instance type has to be g5.48x or p4d.24x.  Ensure you have service quotas for these instances types\n",
    "2. EULA_FLAG need to be set to True\n",
    "3. Add the right tags for auto-shutdown"
   ]
  },
  {
   "cell_type": "code",
   "execution_count": null,
   "metadata": {},
   "outputs": [],
   "source": [
    "model_id = \"meta-textgeneration-llama-2-70b-f\"\n",
    "model_version = \"3.*\"\n",
    "instance_type = \"ml.g5.2xlarge\"\n",
    "instance_count = 1\n",
    "TEXTGEN_ENDPOINT_NAME= 'minilm-l6_v2_model'\n",
    "tags = {\n",
    "    'Scope': \"Rag_Testing\",\n",
    "}"
   ]
  },
  {
   "cell_type": "code",
   "execution_count": null,
   "metadata": {},
   "outputs": [],
   "source": [
    "import boto3\n",
    "import sagemaker\n",
    "from sagemaker.session import Session\n",
    "from sagemaker.jumpstart.model import JumpStartModel\n",
    "\n",
    "sagemaker_session = Session()\n",
    "aws_role = sagemaker_session.get_caller_identity_arn()\n",
    "aws_region = boto3.Session().region_name\n",
    "sess = sagemaker.Session()"
   ]
  },
  {
   "cell_type": "markdown",
   "metadata": {},
   "source": [
    "### 2.  Deploy the Model "
   ]
  },
  {
   "cell_type": "code",
   "execution_count": null,
   "metadata": {},
   "outputs": [],
   "source": [
    "model = JumpStartModel(model_id=model_id, model_version=model_version)\n",
    "predictor = model.deploy(instance_type=instance_type,\n",
    "                         instance_count=instance_count,\n",
    "                         sagemaker_session=sagemaker_session,\n",
    "                         role=aws_role,\n",
    "                         endpoint_name=TEXTGEN_ENDPOINT_NAME,\n",
    "                         tags=tags,\n",
    "                         )"
   ]
  },
  {
   "cell_type": "markdown",
   "metadata": {},
   "source": [
    "### 3. Clean up End points"
   ]
  },
  {
   "cell_type": "code",
   "execution_count": null,
   "metadata": {},
   "outputs": [],
   "source": [
    "# Delete the SageMaker endpoint\n",
    "predictor.delete_model()\n",
    "predictor.delete_endpoint()"
   ]
  }
 ],
 "metadata": {
  "language_info": {
   "name": "python"
  }
 },
 "nbformat": 4,
 "nbformat_minor": 2
}
